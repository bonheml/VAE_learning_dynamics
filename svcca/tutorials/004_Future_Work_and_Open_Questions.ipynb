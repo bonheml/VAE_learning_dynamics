{
 "cells": [
  {
   "cell_type": "markdown",
   "metadata": {
    "toc": true
   },
   "source": [
    "<h1>Table of Contents<span class=\"tocSkip\"></span></h1>\n",
    "<div class=\"toc\"><ul class=\"toc-item\"><li><span><a href=\"#Future-Work-and-Open-Questions\" data-toc-modified-id=\"Future-Work-and-Open-Questions-1\">Future Work and Open Questions</a></span></li></ul></div>"
   ]
  },
  {
   "cell_type": "markdown",
   "metadata": {},
   "source": [
    "## Future Work and Open Questions"
   ]
  },
  {
   "cell_type": "markdown",
   "metadata": {},
   "source": [
    "In our papers ([SVCCA](https://arxiv.org/abs/1706.05806), [Insights on Representational Similarity](https://arxiv.org/abs/1806.05759)), we explored some questions using these technqiues, but many other open questions remain:\n",
    "\n",
    "1. Applying some of these methods to understand properties of generative models.\n",
    "2. Exploring low rank based compression, particularly with PLS\n",
    "3. Understanding learning dynamics and representational similarity of generalizing/memorizing networks through training.\n",
    "4. Identifying the important neurons in a layer, and determining how many there are. Relatedly, identifying which neurons are become sensitive to which classes.\n",
    "5. Pinpointing the effect of different kinds of layers on the representation.\n",
    "6. Comparing representations in biological and artificial neural networks.\n",
    "\n",
    "We hope the code and tutorials are a helpful tool in better understanding representational properties of neural networks!\n"
   ]
  },
  {
   "cell_type": "code",
   "execution_count": null,
   "metadata": {},
   "outputs": [],
   "source": []
  }
 ],
 "metadata": {
  "kernelspec": {
   "display_name": "Python 3",
   "language": "python",
   "name": "python3"
  },
  "language_info": {
   "codemirror_mode": {
    "name": "ipython",
    "version": 3
   },
   "file_extension": ".py",
   "mimetype": "text/x-python",
   "name": "python",
   "nbconvert_exporter": "python",
   "pygments_lexer": "ipython3",
   "version": "3.6.6"
  },
  "toc": {
   "base_numbering": 1,
   "nav_menu": {},
   "number_sections": false,
   "sideBar": true,
   "skip_h1_title": false,
   "title_cell": "Table of Contents",
   "title_sidebar": "Contents",
   "toc_cell": true,
   "toc_position": {},
   "toc_section_display": true,
   "toc_window_display": true
  }
 },
 "nbformat": 4,
 "nbformat_minor": 2
}
